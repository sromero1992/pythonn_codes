{
 "cells": [
  {
   "cell_type": "code",
   "execution_count": null,
   "metadata": {},
   "outputs": [],
   "source": [
    "# Quantum Neural Networks example from https://qiskit-community.github.io/qiskit-machine-learning/tutorials/01_neural_networks.html\n"
   ]
  }
 ],
 "metadata": {
  "kernelspec": {
   "display_name": "qiskit-env",
   "language": "python",
   "name": "python3"
  },
  "language_info": {
   "name": "python",
   "version": "3.11.9"
  }
 },
 "nbformat": 4,
 "nbformat_minor": 2
}
